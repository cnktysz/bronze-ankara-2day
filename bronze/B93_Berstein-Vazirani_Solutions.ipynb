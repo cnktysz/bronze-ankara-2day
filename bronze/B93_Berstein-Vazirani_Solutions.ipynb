{
 "cells": [
  {
   "cell_type": "markdown",
   "metadata": {},
   "source": [
    "<table>\n",
    "    <tr><td align=\"right\" style=\"background-color:#ffffff;\">\n",
    "        <img src=\"../images/LogoQTurkey.png\" width=\"20%\" align=\"right\">\n",
    "    </td></tr>\n",
    "    <tr><td align=\"right\" style=\"color:#777777;background-color:#ffffff;font-size:12px;\">\n",
    "        Prepared by Berat Yenilen | Edited by Utku Birkan<br>\n",
    "        February 15, 2019\n",
    "    </td></tr>\n",
    "    <tr><td align=\"right\" style=\"color:#bbbbbb;background-color:#ffffff;font-size:11px;font-style:italic;\">\n",
    "        This cell contains some macros. If there is a problem with displaying mathematical formulas, please run this cell to load these macros.\n",
    "    </td></tr>\n",
    "</table>\n",
    "$ \\newcommand{\\bra}[1]{\\langle #1|} $\n",
    "$ \\newcommand{\\ket}[1]{|#1\\rangle} $\n",
    "$ \\newcommand{\\braket}[2]{\\langle #1|#2\\rangle} $\n",
    "$ \\newcommand{\\dot}[2]{ #1 \\cdot #2} $\n",
    "$ \\newcommand{\\biginner}[2]{\\left\\langle #1,#2\\right\\rangle} $\n",
    "$ \\newcommand{\\mymatrix}[2]{\\left( \\begin{array}{#1} #2\\end{array} \\right)} $\n",
    "$ \\newcommand{\\myvector}[1]{\\mymatrix{c}{#1}} $\n",
    "$ \\newcommand{\\myrvector}[1]{\\mymatrix{r}{#1}} $\n",
    "$ \\newcommand{\\mypar}[1]{\\left( #1 \\right)} $\n",
    "$ \\newcommand{\\mybigpar}[1]{ \\Big( #1 \\Big)} $\n",
    "$ \\newcommand{\\sqrttwo}{\\frac{1}{\\sqrt{2}}} $\n",
    "$ \\newcommand{\\dsqrttwo}{\\dfrac{1}{\\sqrt{2}}} $\n",
    "$ \\newcommand{\\onehalf}{\\frac{1}{2}} $\n",
    "$ \\newcommand{\\donehalf}{\\dfrac{1}{2}} $\n",
    "$ \\newcommand{\\hadamard}{ \\mymatrix{rr}{ \\sqrttwo & \\sqrttwo \\\\ \\sqrttwo & -\\sqrttwo }} $\n",
    "$ \\newcommand{\\vzero}{\\myvector{1\\\\0}} $\n",
    "$ \\newcommand{\\vone}{\\myvector{0\\\\1}} $\n",
    "$ \\newcommand{\\vhadamardzero}{\\myvector{ \\sqrttwo \\\\  \\sqrttwo } } $\n",
    "$ \\newcommand{\\vhadamardone}{ \\myrvector{ \\sqrttwo \\\\ -\\sqrttwo } } $\n",
    "$ \\newcommand{\\myarray}[2]{ \\begin{array}{#1}#2\\end{array}} $\n",
    "$ \\newcommand{\\X}{ \\mymatrix{cc}{0 & 1 \\\\ 1 & 0}  } $\n",
    "$ \\newcommand{\\Z}{ \\mymatrix{rr}{1 & 0 \\\\ 0 & -1}  } $\n",
    "$ \\newcommand{\\Htwo}{ \\mymatrix{rrrr}{ \\frac{1}{2} & \\frac{1}{2} & \\frac{1}{2} & \\frac{1}{2} \\\\ \\frac{1}{2} & -\\frac{1}{2} & \\frac{1}{2} & -\\frac{1}{2} \\\\ \\frac{1}{2} & \\frac{1}{2} & -\\frac{1}{2} & -\\frac{1}{2} \\\\ \\frac{1}{2} & -\\frac{1}{2} & -\\frac{1}{2} & \\frac{1}{2} } } $\n",
    "$ \\newcommand{\\CNOT}{ \\mymatrix{cccc}{1 & 0 & 0 & 0 \\\\ 0 & 1 & 0 & 0 \\\\ 0 & 0 & 0 & 1 \\\\ 0 & 0 & 1 & 0} } $\n",
    "$ \\newcommand{\\norm}[1]{ \\left\\lVert #1 \\right\\rVert } $"
   ]
  },
  {
   "cell_type": "markdown",
   "metadata": {},
   "source": [
    "<h3> Solutions to Berstein-Vazirani Problem </h3>     "
   ]
  },
  {
   "cell_type": "markdown",
   "metadata": {},
   "source": [
    "<h3> Task 1 </h3> \n",
    "\n",
    "- How many times do we need to use the oracle if we are to solve the problem clasically? \n",
    "- How many times do you think we need to use the oracle if we are to solve the problem with a quantum computer ? "
   ]
  },
  {
   "attachments": {},
   "cell_type": "markdown",
   "metadata": {},
   "source": [
    "<h3> Solution </h3> \n",
    "\n",
    "Our circuit for this problem, like we said earlier, is just the same as before: \n",
    "\n",
    "<img src=\"../images/deutch_jozsa.jpeg\" width=\"80%\" align=\"center\">\n",
    "\n",
    "Let's again follow the states step by step and see what do we expect to see when we perform our measurement. \n",
    "\n",
    "- Initially, our state is: $\\ket{ \\psi_0 } = \\ket{0}^{\\otimes n} \\ket{1} $.\n",
    "- After applying all the Hadamard gates it becomes: $\\ket{\\psi_1} = \\frac{1}{\\sqrt{2^n}}\\sum_{\\mathbf{x}\\in \\{0,1\\}^n } \\ket{ \\mathbf{x} } \\ket{-}  $ , same as before.\n",
    "- After applying $U_f$, our state is again same as before: $\\ket{\\psi_2} = \\frac{1}{\\sqrt{2^n}}\\sum_{\\mathbf{x}\\in \\{0,1\\}^n } (-1)^{f(\\mathbf{x})} \\ket{ \\mathbf{x} } \\ket{-}  $. At this point however, we can perform some sort of simplification since we know that $ f(\\mathbf{x}) = \\mathbf{x.s}$. So the state becomes: $$\\ket{\\psi_2} = \\frac{1}{\\sqrt{2^n}}\\sum_{\\mathbf{x}\\in \\{0,1\\}^n } (-1)^{\\mathbf{x.s}} \\ket{ \\mathbf{x} } \\ket{-}  $$\n",
    "- Now, remember the definition we gave for an n-qubit Hadamard gate:                     $$ H^{\\otimes n} \\ket{ \\mathbf{x} } = \\frac{1}{\\sqrt{2^n}} \\sum_{ z \\in \\{0, 1\\}^n } (-1)^{ \\mathbf{x.z} } \\ket{ z } $$                                                         We also know that Hadamard is its own inverse. So if we apply Hadamard again to the above state we will recover $\\ket{ \\mathbf{x} }$.                                       $$ H \\bigg( \\frac{1}{\\sqrt{2^n}} \\sum_{ z \\in \\{0, 1\\}^n } (-1)^{ \\mathbf{x.z} } \\ket{ z } \\bigg) = \\ket{ \\mathbf{x}} $$                                                            You may notice that the state $\\ket{ \\psi_2 } $ is just the state you obtain when you apply Hadamard to $\\ket{ \\mathbf{s} }$. So if we apply Hadamard to it again, we will obtain $\\ket{ \\mathbf{s} }$. We can then say: $$ \\ket{ \\psi_3 } = \\ket{ \\mathbf{s} } $$\n",
    "- After measuring our system, we expect to see what $mathbf{s}$ was directly."
   ]
  },
  {
   "cell_type": "markdown",
   "metadata": {},
   "source": [
    "<h3> Task 2 </h3> \n",
    "\n",
    "You are given an oracle function called oracle(x), which takes as input a quantum circuit, applies $U_f$ on it and returns the circuit. ( burda donmesine gerek var mi yok mu bilmiyorum. Ona sen karar ver nasil daha rahat olursa sana. ) \n",
    "\n",
    "Implement the proposed algorithm to decide whether or not your oracle function is constant or even. You should be able the see the circuit structure of $U_f$, if you draw your circuit. Can you check whether your result is correct or not by looking at this circuit ?\n",
    "\n",
    "kopyala yapistir yaptim ben de cekiduzen verebilirsin. bunda da randomized bitstring yapabilirsen muhtesem olur valla. "
   ]
  },
  {
   "cell_type": "code",
   "execution_count": null,
   "metadata": {},
   "outputs": [],
   "source": []
  },
  {
   "cell_type": "markdown",
   "metadata": {},
   "source": [
    "<h3> Structure of the Oracle </h3> \n",
    "\n",
    "Yaptiktan sonra boyle bi kisim yazabilirsen bence yerinde olur. bi tane de ornek oracle tasarlama task i koyariz tertermiz. \n",
    "\n",
    "Aynilarini deutch-jozsa ya da yapabilirsin aslinda cok ugrastirmaz bir kere yaptin mi."
   ]
  },
  {
   "cell_type": "code",
   "execution_count": null,
   "metadata": {},
   "outputs": [],
   "source": []
  }
 ],
 "metadata": {
  "kernelspec": {
   "display_name": "Python 3",
   "language": "python",
   "name": "python3"
  },
  "language_info": {
   "codemirror_mode": {
    "name": "ipython",
    "version": 3
   },
   "file_extension": ".py",
   "mimetype": "text/x-python",
   "name": "python",
   "nbconvert_exporter": "python",
   "pygments_lexer": "ipython3",
   "version": "3.7.1"
  }
 },
 "nbformat": 4,
 "nbformat_minor": 4
}
