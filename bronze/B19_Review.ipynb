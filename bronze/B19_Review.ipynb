{
 "cells": [
  {
   "cell_type": "markdown",
   "metadata": {},
   "source": [
    "<table>\n",
    "    <tr><td align=\"right\" style=\"background-color:#ffffff;\">\n",
    "        <img src=\"../images/LogoQTurkey.png\" width=\"20%\" align=\"right\">\n",
    "    </td></tr>\n",
    "    <tr><td align=\"right\" style=\"color:#777777;background-color:#ffffff;font-size:12px;\">\n",
    "        Prepared by Utku Birkan<br>\n",
    "        February 15, 2019\n",
    "    </td></tr>\n",
    "    <tr><td align=\"right\" style=\"color:#bbbbbb;background-color:#ffffff;font-size:11px;font-style:italic;\">\n",
    "        This cell contains some macros. If there is a problem with displaying mathematical formulas, please run this cell to load these macros.\n",
    "    </td></tr>\n",
    "</table>\n",
    "$ \\newcommand{\\bra}[1]{\\langle #1|} $\n",
    "$ \\newcommand{\\ket}[1]{|#1\\rangle} $\n",
    "$ \\newcommand{\\braket}[2]{\\langle #1|#2\\rangle} $\n",
    "$ \\newcommand{\\dot}[2]{ #1 \\cdot #2} $\n",
    "$ \\newcommand{\\biginner}[2]{\\left\\langle #1,#2\\right\\rangle} $\n",
    "$ \\newcommand{\\mymatrix}[2]{\\left( \\begin{array}{#1} #2\\end{array} \\right)} $\n",
    "$ \\newcommand{\\myvector}[1]{\\mymatrix{c}{#1}} $\n",
    "$ \\newcommand{\\myrvector}[1]{\\mymatrix{r}{#1}} $\n",
    "$ \\newcommand{\\mypar}[1]{\\left( #1 \\right)} $\n",
    "$ \\newcommand{\\mybigpar}[1]{ \\Big( #1 \\Big)} $\n",
    "$ \\newcommand{\\sqrttwo}{\\frac{1}{\\sqrt{2}}} $\n",
    "$ \\newcommand{\\dsqrttwo}{\\dfrac{1}{\\sqrt{2}}} $\n",
    "$ \\newcommand{\\onehalf}{\\frac{1}{2}} $\n",
    "$ \\newcommand{\\donehalf}{\\dfrac{1}{2}} $\n",
    "$ \\newcommand{\\hadamard}{ \\mymatrix{rr}{ \\sqrttwo & \\sqrttwo \\\\ \\sqrttwo & -\\sqrttwo }} $\n",
    "$ \\newcommand{\\vzero}{\\myvector{1\\\\0}} $\n",
    "$ \\newcommand{\\vone}{\\myvector{0\\\\1}} $\n",
    "$ \\newcommand{\\vhadamardzero}{\\myvector{ \\sqrttwo \\\\  \\sqrttwo } } $\n",
    "$ \\newcommand{\\vhadamardone}{ \\myrvector{ \\sqrttwo \\\\ -\\sqrttwo } } $\n",
    "$ \\newcommand{\\myarray}[2]{ \\begin{array}{#1}#2\\end{array}} $\n",
    "$ \\newcommand{\\X}{ \\mymatrix{cc}{0 & 1 \\\\ 1 & 0}  } $\n",
    "$ \\newcommand{\\Z}{ \\mymatrix{rr}{1 & 0 \\\\ 0 & -1}  } $\n",
    "$ \\newcommand{\\Htwo}{ \\mymatrix{rrrr}{ \\frac{1}{2} & \\frac{1}{2} & \\frac{1}{2} & \\frac{1}{2} \\\\ \\frac{1}{2} & -\\frac{1}{2} & \\frac{1}{2} & -\\frac{1}{2} \\\\ \\frac{1}{2} & \\frac{1}{2} & -\\frac{1}{2} & -\\frac{1}{2} \\\\ \\frac{1}{2} & -\\frac{1}{2} & -\\frac{1}{2} & \\frac{1}{2} } } $\n",
    "$ \\newcommand{\\CNOT}{ \\mymatrix{cccc}{1 & 0 & 0 & 0 \\\\ 0 & 1 & 0 & 0 \\\\ 0 & 0 & 0 & 1 \\\\ 0 & 0 & 1 & 0} } $\n",
    "$ \\newcommand{\\norm}[1]{ \\left\\lVert #1 \\right\\rVert } $"
   ]
  },
  {
   "cell_type": "markdown",
   "metadata": {},
   "source": [
    "<h2> A Brief Review of Preliminary Notebooks </h2>"
   ]
  },
  {
   "cell_type": "markdown",
   "metadata": {},
   "source": [
    "In this workshop, we are going to talk about a new model for computing things. Namely, quantum computing. To understand this though, we shall briefly cover the mathemathical representations of the units of information. The bits.\n"
   ]
  },
  {
   "cell_type": "markdown",
   "metadata": {},
   "source": [
    "<h3> Classical Bits </h3>"
   ]
  },
  {
   "cell_type": "markdown",
   "metadata": {},
   "source": [
    "Classically, a bit is the smallest unit of information. It has two distinct states, which we name $0$ and $1$. It is worth noting that this $0$ and $1$ notation is not the only way to represent them. In fact representing them using vectors turns out to be a more elegant solution (at least for our use). So we will represent them using the following two vectors in most cases.\n",
    "\n",
    "$$\\myvector{1\\\\0}~,~\\myvector{0\\\\1}$$\n"
   ]
  },
  {
   "cell_type": "markdown",
   "metadata": {},
   "source": [
    "\n",
    "Now that we the representations of these bits, let's see how we can manipulate them. We can define the operations that act on these bits.\n",
    "\n",
    "<ul>\n",
    "    <li>Identity: $I(0) = 0$ and $I(1) = 1$</li>\n",
    "    <li>Negation: $NOT(0) = 1$ and $NOT(1) =0$</li> \n",
    "    <li>Zero: $ZERO(0) = 0$ and $ZERO(1) = 0$</li>\n",
    "    <li>One: $ONE(0) = 1$ and $ONE(1)= 1$</li>\n",
    "</ul>\n",
    "\n",
    "If we were to use the vector notation for our bits, we could represent these operations using matrices.\n",
    "<ul>\n",
    "    <li>Identity: $\\mymatrix{cc}{1 & 0 \\\\ 0 & 1}$</li>\n",
    "    <li>Negation: $\\mymatrix{cc}{0 & 1 \\\\ 1 & 0}$</li> \n",
    "    <li>Zero: $\\mymatrix{cc}{1 & 1 \\\\ 0 & 0}$</li>\n",
    "    <li>One: $\\mymatrix{cc}{0 & 0 \\\\ 1 & 1}$</li>\n",
    "</ul>\n",
    "\n",
    "Now, we'll verify that the matrix representation for negation gives the same result as the definition above. You can verify the rest on your own.\n",
    "\\begin{align}\n",
    "\\mymatrix{cc}{0 & 1 \\\\ 1 & 0}\\myvector{1\\\\0} = \\myvector{1\\cdot 0+0\\cdot 1\\\\1\\cdot 1 + 0\\cdot 0} = \\myvector{0\\\\1} \\\\\n",
    "\\mymatrix{cc}{0 & 1 \\\\ 1 & 0}\\myvector{0\\\\1} = \\myvector{0\\cdot 0+1\\cdot 1\\\\0\\cdot 1 + 1\\cdot 0} = \\myvector{1\\\\0}\n",
    "\\end{align}\n"
   ]
  },
  {
   "cell_type": "markdown",
   "metadata": {},
   "source": [
    "An important property about these operations is <b>reversibility</b>. \n",
    "<ul>\n",
    "    <li>For some operations, if we know the final state of a bit (i.e. the state after applying that operation) we may find the initial state. For example for a state $f$, if $NOT(f) = 1$, we know that $f=0$. Identity also has this property.</li>\n",
    "    <li>However, One and Zero operations are irreversible as they result in one and zero respectively regardless of the initial state of the bit they operate on. This property is important since we will see that all quantum operators are reversible.</li>\n",
    "</ul>\n"
   ]
  },
  {
   "cell_type": "markdown",
   "metadata": {},
   "source": [
    "<h3> Probabilistic Bits </h3>"
   ]
  },
  {
   "cell_type": "markdown",
   "metadata": {},
   "source": [
    "We can modify our model a little bit to have some probabilistic bits. A probabilistic bit represents the respective probabilities of having either $0$ or $1$ when the bit is observed (or measured). Hence the probabilistic bit can written as a vector like the following$$\\myvector{P(0)\\\\P(1)}$$\n",
    "\n",
    "This means that when measured, we will get the state $0$ with probability $P(0)$ and the state $1$ with probability $P(1)$.\n",
    "\n",
    "At this point, we can think of this probabilistic state as some linear combination of the classical $1$ and $0$ states.\n",
    "\n",
    "$$P(0)\\myvector{1\\\\0}+P(1)\\myvector{0\\\\1}$$\n",
    "\n",
    "Note that $0$ and $1$ states are orthonormal basis of a 2 dimensional Euclidian space."
   ]
  },
  {
   "cell_type": "markdown",
   "metadata": {},
   "source": [
    "It is easy to see that the same operators we defined for non probabilistic bits still work for these new probabilistic bits. Let's look at a reversible and an irriversible operators acting on a probabilistic bit.\n",
    "\n",
    "<ul>\n",
    "    <li>Not: $\\mymatrix{cc}{0 & 1 \\\\ 1 & 0}\\myvector{P(0)\\\\P(1)}=\\myvector{0\\cdot P(0)+1\\cdot P(1)\\\\1\\cdot P(0)+0\\cdot P(1)}=\\myvector{P(1)\\\\P(0)}$</li>\n",
    "    <li>Zero: $\\mymatrix{cc}{1 & 1 \\\\ 0 & 0}\\myvector{P(0)\\\\P(1)}=\\myvector{1\\cdot P(0)+1\\cdot P(1)\\\\0\\cdot P(0)+0\\cdot P(1)}=\\myvector{P(0)+P(1)\\\\0}=\\myvector{1\\\\0}$</li>\n",
    "</ul>\n",
    "\n",
    "We are not restricted to these operators though. We can also write <b>probabilistic operators</b> when we are dealing with probabilistic bits. It can be defined as such$$\\mymatrix{cc}{P(0 \\rightarrow 0) & P(1 \\rightarrow 0) \\\\ P(1 \\rightarrow 0) & P(1 \\rightarrow 1)}$$ where $P(a \\rightarrow b)$ is the probability of the operator <i> evolving</i> the state $a$ to the state $b$. Since all the possible new states of an initial state should have a probability of $1$, columns of an operator matrix must add up to $1$.\n",
    "We can see this more clearly with an example. Let our operator be $$\\mymatrix{cc}{0.6 & 0.3 \\\\ 0.4 & 0.7}$$Let's apply it to a basis $0$ state. $$\\mymatrix{cc}{0.6 & 0.3 \\\\ 0.4 & 0.7}\\myvector{1\\\\0}=\\myvector{1\\cdot0.6+0\\cdot0.3\\\\1\\cdot0.4+0\\cdot0.7}=\\myvector{0.6\\\\0.4}$$"
   ]
  },
  {
   "cell_type": "markdown",
   "metadata": {},
   "source": [
    "<h3> Task 1 </h3> \n",
    "\n",
    "What would be the result if we apply the same operator to basis $1$ ?"
   ]
  },
  {
   "cell_type": "markdown",
   "metadata": {},
   "source": [
    "<h3>Multiple Bits</h3>"
   ]
  },
  {
   "cell_type": "markdown",
   "metadata": {},
   "source": [
    "What happens if we have more than one bit? For classical bits, it is obvious that we should have basis states for all the possible values of states. For example for two bits we have the following possible values: $00$, $01$, $10$ and $11$. We can show them as vectors like this\n",
    "\n",
    "$$00 = \\myvector{1\\\\0\\\\0\\\\0}~01=\\myvector{0\\\\1\\\\0\\\\0} ~ 10 = \\myvector{0\\\\0\\\\1\\\\0}~11=\\myvector{0\\\\0\\\\0\\\\1}$$\n",
    "\n",
    "It is also possible to write a probabilistic bit using these basis. Let's say we have two probabilistic bits, $\\myvector{0.3\\\\0.7}$ and $\\myvector{0.6\\\\0.4}$. Then we have the following cases:\n",
    "<ul>\n",
    "    <li>The probabilities of having first bit as $0$ and second bit as $0$ are $0.3$ and $0.6$. Hence probability of having the state $00$ is $P(00) = 0.3\\cdot0.6=0.18$.</li>\n",
    "    <li>The probabilities of having first bit as $1$ and second bit as $0$ are $0.7$ and $0.6$.Hence probability of having the state $01$ is $P(01) = 0.3\\cdot0.4=0.12$.</li>\n",
    "    <li>The probabilities of having first bit as $0$ and second bit as $1$ are $0.3$ and $0.4$.Hence probability of having the state $10$ is $P(10) = 0.7\\cdot0.6=0.42$.</li>\n",
    "    <li>Similarly, the probabilities of having first bit as $0$ and second bit as $1$ are $0.7$ and $0.4$.Hence probability of having the state $11$ is $P(11) = 0.7\\cdot0.4=0.28$.</li>\n",
    "</ul>\n",
    "\n",
    "It is clear that these probabilities add up to $1$ as expected. The vector representation of this state is\n",
    "\n",
    "$$\\myvector{0.18\\\\0.12\\\\0.42\\\\0.28}=0.18\\myvector{1\\\\0\\\\0\\\\0}+0.12\\myvector{0\\\\1\\\\0\\\\0}+0.42\\myvector{0\\\\0\\\\1\\\\0}+0.28\\myvector{0\\\\0\\\\0\\\\1}$$\n",
    "\n",
    "It is possible to make this calculation algebraically. To do this we can introduce the <b>tensor product $\\otimes$</b> operation and a newer notation for representing our basis vectors. We already discussed how we can express probabilistic bits as the linear combinations of our classical $1$ and $0$ states.$$\\myvector{0.3\\\\0.7} = 0.3\\myvector{1\\\\0}+0.7\\myvector{0\\\\1}$$\n",
    "Let's represent the column vectors which represents the states $0$ and $1$ as $\\ket{0}=\\myvector{1\\\\0}$ and $\\ket{1} = \\myvector{0\\\\1}$. This notation is called the bra-ket notation, which is widely used in quantum mechanics. The symbol \"$\\ket{~}$\" is named a \"ket\", which is used to represent a column vector. The previous vector can now be expressed as $$\\myvector{0.3\\\\0.7} = 0.3\\ket{0}+0.7\\ket{1}$$\n",
    "Now, let's define the tensor product. Tensor product is a linear operation which acts on the basis vector in the following fashion $\\ket{a}\\otimes\\ket{b}=\\ket{ab}$. For the basis of two probabilistic bits:\n",
    "<ul>\n",
    "    <li>$\\ket{0}\\otimes\\ket{0}=\\ket{00}= \\myvector{1\\\\0\\\\0\\\\0}$</li>\n",
    "    <li>$\\ket{0}\\otimes\\ket{1}=\\ket{01}=\\myvector{0\\\\1\\\\0\\\\0}$</li>\n",
    "    <li>$\\ket{1}\\otimes\\ket{0}=\\ket{10}= \\myvector{0\\\\0\\\\1\\\\0}$</li>\n",
    "    <li>$\\ket{1}\\otimes\\ket{1}=\\ket{11}=\\myvector{0\\\\0\\\\0\\\\1}$</li>\n",
    "</ul>\n",
    "We can rewrite the previous statement with the tensor product\n",
    "$$\\begin{align}\n",
    "\\myvector{0.3\\\\0.7}\\otimes\\myvector{0.6\\\\0.4} &= (0.3\\ket{0}+0.7\\ket{1})\\otimes(0.6\\ket{0}+0.4\\ket{1})\\\\\n",
    "&=0.3\\cdot0.6(\\ket{0}\\otimes\\ket{0})+0.3\\cdot0.4(\\ket{0}\\otimes\\ket{1})+0.7\\cdot0.3(\\ket{1}\\otimes\\ket{0})+0.7\\cdot0.4(\\ket{1}\\otimes\\ket{1})\\\\&=0.18\\ket{00}+0.12\\ket{01}+0.42\\ket{10}+0.28\\ket{11}\\\\\n",
    "\\end{align}$$\n",
    "\n",
    "As you can see we got the same result. Lastly, tensor product can be expressed conveniently like the following.\n",
    "$$\\begin{align}\n",
    "\\myvector{a\\\\b}\\otimes\\myvector{c\\\\d} &= \\myvector{a\\myvector{c\\\\d}\\\\b\\myvector{c\\\\d}}\n",
    "=\\myvector{ac\\\\ad\\\\bc\\\\bd}\n",
    "\\end{align}$$\n",
    "\n",
    "Hence for our bits\n",
    "$$\\begin{align}\n",
    "\\myvector{0.3\\\\0.7}\\otimes\\myvector{0.6\\\\0.4} &= \\myvector{0.3\\myvector{0.6\\\\0.4}\\\\0.7\\myvector{0.6\\\\0.4}}=\\myvector{0.3\\cdot0.6\\\\0.3\\cdot0.4\\\\0.7\\cdot0.6\\\\0.7\\cdot0.4}=\\myvector{0.18\\\\0.12\\\\0.42\\\\0.28}\n",
    "\\end{align}$$"
   ]
  },
  {
   "cell_type": "markdown",
   "metadata": {},
   "source": [
    "<h3> Task 2 </h3> \n",
    "\n",
    "Assume we have three probabilistic bits in states: \n",
    "\n",
    "$$ \\ket{C_1} = 0.3\\ket{0} + 0.7\\ket{1} $$\n",
    "$$ \\ket{C_2} = \\ket{0} $$\n",
    "$$ \\ket{C_3} = 0.4\\ket{0} + 0.6\\ket{1} $$\n",
    "\n",
    "- Write down the combined state. \n",
    "- What is the probability that first coin is in state $0$, second coin is in state $0$ and the third coin is in the state $1$."
   ]
  },
  {
   "cell_type": "code",
   "execution_count": null,
   "metadata": {},
   "outputs": [],
   "source": []
  }
 ],
 "metadata": {
  "kernelspec": {
   "display_name": "Python 3",
   "language": "python",
   "name": "python3"
  },
  "language_info": {
   "codemirror_mode": {
    "name": "ipython",
    "version": 3
   },
   "file_extension": ".py",
   "mimetype": "text/x-python",
   "name": "python",
   "nbconvert_exporter": "python",
   "pygments_lexer": "ipython3",
   "version": "3.7.1"
  }
 },
 "nbformat": 4,
 "nbformat_minor": 4
}
