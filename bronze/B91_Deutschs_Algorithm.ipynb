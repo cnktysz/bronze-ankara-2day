{
 "cells": [
  {
   "cell_type": "markdown",
   "metadata": {},
   "source": [
    "<table>\n",
    "    <tr><td align=\"right\" style=\"background-color:#ffffff;\">\n",
    "        <img src=\"../images/LogoQTurkey.png\" width=\"20%\" align=\"right\">\n",
    "    </td></tr>\n",
    "    <tr><td align=\"right\" style=\"color:#777777;background-color:#ffffff;font-size:12px;\">\n",
    "        Prepared by Berat Yenilen | Edited by Utku Birkan<br>\n",
    "        February 15, 2019\n",
    "    </td></tr>\n",
    "    <tr><td align=\"right\" style=\"color:#bbbbbb;background-color:#ffffff;font-size:11px;font-style:italic;\">\n",
    "        This cell contains some macros. If there is a problem with displaying mathematical formulas, please run this cell to load these macros.\n",
    "    </td></tr>\n",
    "</table>\n",
    "$ \\newcommand{\\bra}[1]{\\langle #1|} $\n",
    "$ \\newcommand{\\ket}[1]{|#1\\rangle} $\n",
    "$ \\newcommand{\\braket}[2]{\\langle #1|#2\\rangle} $\n",
    "$ \\newcommand{\\dot}[2]{ #1 \\cdot #2} $\n",
    "$ \\newcommand{\\biginner}[2]{\\left\\langle #1,#2\\right\\rangle} $\n",
    "$ \\newcommand{\\mymatrix}[2]{\\left( \\begin{array}{#1} #2\\end{array} \\right)} $\n",
    "$ \\newcommand{\\myvector}[1]{\\mymatrix{c}{#1}} $\n",
    "$ \\newcommand{\\myrvector}[1]{\\mymatrix{r}{#1}} $\n",
    "$ \\newcommand{\\mypar}[1]{\\left( #1 \\right)} $\n",
    "$ \\newcommand{\\mybigpar}[1]{ \\Big( #1 \\Big)} $\n",
    "$ \\newcommand{\\sqrttwo}{\\frac{1}{\\sqrt{2}}} $\n",
    "$ \\newcommand{\\dsqrttwo}{\\dfrac{1}{\\sqrt{2}}} $\n",
    "$ \\newcommand{\\onehalf}{\\frac{1}{2}} $\n",
    "$ \\newcommand{\\donehalf}{\\dfrac{1}{2}} $\n",
    "$ \\newcommand{\\hadamard}{ \\mymatrix{rr}{ \\sqrttwo & \\sqrttwo \\\\ \\sqrttwo & -\\sqrttwo }} $\n",
    "$ \\newcommand{\\vzero}{\\myvector{1\\\\0}} $\n",
    "$ \\newcommand{\\vone}{\\myvector{0\\\\1}} $\n",
    "$ \\newcommand{\\vhadamardzero}{\\myvector{ \\sqrttwo \\\\  \\sqrttwo } } $\n",
    "$ \\newcommand{\\vhadamardone}{ \\myrvector{ \\sqrttwo \\\\ -\\sqrttwo } } $\n",
    "$ \\newcommand{\\myarray}[2]{ \\begin{array}{#1}#2\\end{array}} $\n",
    "$ \\newcommand{\\X}{ \\mymatrix{cc}{0 & 1 \\\\ 1 & 0}  } $\n",
    "$ \\newcommand{\\Z}{ \\mymatrix{rr}{1 & 0 \\\\ 0 & -1}  } $\n",
    "$ \\newcommand{\\Htwo}{ \\mymatrix{rrrr}{ \\frac{1}{2} & \\frac{1}{2} & \\frac{1}{2} & \\frac{1}{2} \\\\ \\frac{1}{2} & -\\frac{1}{2} & \\frac{1}{2} & -\\frac{1}{2} \\\\ \\frac{1}{2} & \\frac{1}{2} & -\\frac{1}{2} & -\\frac{1}{2} \\\\ \\frac{1}{2} & -\\frac{1}{2} & -\\frac{1}{2} & \\frac{1}{2} } } $\n",
    "$ \\newcommand{\\CNOT}{ \\mymatrix{cccc}{1 & 0 & 0 & 0 \\\\ 0 & 1 & 0 & 0 \\\\ 0 & 0 & 0 & 1 \\\\ 0 & 0 & 1 & 0} } $\n",
    "$ \\newcommand{\\norm}[1]{ \\left\\lVert #1 \\right\\rVert } $"
   ]
  },
  {
   "cell_type": "markdown",
   "metadata": {},
   "source": [
    "<h2> Some Quantum Algorithms </h2> "
   ]
  },
  {
   "cell_type": "markdown",
   "metadata": {},
   "source": [
    "When we want to describe a classical algorithm, most of the time we use pseudocode. In our pseudocode, we also use some structures such as loops, if statements etc. to describe the our algorithm.\n",
    "A similar situation exists for quantum algorithms too. The algorithms that we will be talking about today will have the format \"Rotate, Compute, Rotate\" <sup>[1]</sup> and a fixed circuit structure. But before we dive into the details, let us start by trying to write down a quantum circuit that does what we usually do with classical circuits: \"Implementation of Boolean Functions\". \n",
    "\n",
    "<ol style=\"font-size:10pt;\">\n",
    "<li>For further reference take a look at <a href=\"https://www.cs.cmu.edu/~odonnell/quantum18/\">these notes</a>\n",
    "</ol>\n"
   ]
  },
  {
   "cell_type": "markdown",
   "metadata": {},
   "source": [
    "<h3> Quantum AND Gate </h3>\n",
    "\n",
    "While describing the implementation of any boolean function $ f:\\{0,1\\}^n \\rightarrow \\{0,1\\} $, we can use any of the existing universal gate sets. An example universal set would be using AND, OR and NOT gates. \n",
    "\n",
    "- An AND gate takes two inputs $x_1,x_2 \\in \\{0,1\\}$ and returns 1 if and only if both $x_1$ and $x_2$ are equal to 1, 0 otherwise. \n",
    "\n",
    "- An OR gate takes two inputs $x_1, x_2 \\in \\{0, 1 \\}$ and returns 1 if $x_1 = 1$ or $x_2 =1$.\n",
    "\n",
    "- A NOT gate takes one input $x_1 \\in \\{0,1\\}$ and returns the negation of $x_1$."
   ]
  },
  {
   "cell_type": "markdown",
   "metadata": {},
   "source": [
    "<h3> Task 1 (Discuss) </h3> \n",
    "\n",
    "Do you think is it possible to design a quantum circuit that implements an AND or not ?"
   ]
  },
  {
   "cell_type": "markdown",
   "metadata": {},
   "source": [
    "<h3> Controlled SWAP-Gate </h3> \n",
    "\n",
    "-Utku'ya not\n",
    "\n",
    "Linkteki yada obur notebooklardaki gibi bi figur cizmek lazim nasi yapiyoz biliyon nu ? https://www.cs.cmu.edu/~odonnell/quantum18/lecture10.pdf .\n",
    "\n",
    "-Berat'a not\n",
    "\n",
    "Qiskit ile çizip matplotlib ile kaydedebilirsin. istersen bana çizmek istedigin devrelerin kodunu at ben kaydedeyim/\n",
    "\n",
    "\n",
    "\n",
    "A controlled SWAP-gate is a three qubit gate where the first qubit is the control qubit. It swaps the second and the third qubit if the control qubit is equal to 1, does nothing otherwise. \n",
    "\n",
    "\n",
    "<h3> Task 2</h3>\n",
    "\n",
    "Can you use this gate to implement an AND gate ?\n"
   ]
  },
  {
   "cell_type": "markdown",
   "metadata": {},
   "source": [
    "<h3> Task 3 </h3> \n",
    "\n",
    "Can you use the Controlled SWAP-Gate to implement the OR gate ?"
   ]
  },
  {
   "attachments": {},
   "cell_type": "markdown",
   "metadata": {},
   "source": [
    "<h3> Describing A General Unitary Transformation </h3> \n",
    "\n",
    "Now that we've seen that we can implement a set of universal gates on a quantum computer, provided that we make them \"reversible\", we can say that it is possible to implement any boolean function $f:\\{0,1\\}^n \\rightarrow \\{0,1\\}$ if we use ancilla qubits. So given any boolean function $f(x)$, we propose that the following oracle will implement it in a quantum computer.\n",
    "\n",
    "<img src=\"../images/Uf.jpeg\" width=\"80%\" align=\"center\">"
   ]
  },
  {
   "cell_type": "markdown",
   "metadata": {},
   "source": [
    "<h3> Task 4 </h3>\n",
    "\n",
    "What is the output qubit after applying $U_f$ if :\n",
    "\n",
    "- $\\ket{y} = \\ket{0}$\n",
    "\n",
    "- $\\ket{y} = \\ket{1}$\n",
    "\n",
    "- $\\ket{y} = \\ket{-}$"
   ]
  },
  {
   "cell_type": "markdown",
   "metadata": {},
   "source": [
    "<h3> Deutsch's Problem </h3>\n",
    "\n",
    "We say a boolean function $f:\\{0,1\\} \\rightarrow \\{0, 1\\}$ is balanced if $f(0) \\neq f(1)$. If $f(0) = f(1)$ we say that f is constant.\n",
    "\n",
    "Deutch's problem is:\n",
    "- Given f as an oracle, that is we can evaluate it for an input but we can't look inside, decide whether f is constant or balanced."
   ]
  },
  {
   "cell_type": "markdown",
   "metadata": {},
   "source": [
    "-Utku'ya not:\n",
    "\n",
    "Yukardaki hücreden sonra ben tahtada falan nasıl çözeceğimizi anlatıcam. Sonra bir task yapmak gerekiyo. Onun için de bir dosyaya, dosyanın adı ted.py olabilir mesela, oracle yazmanı rica edicem. iki devre yapıp rastgele birini verirsen bence daha güzel olur. Hep aynı şeyi yapmaya gerek yok bence. 1 qubitlik bişi olur zati."
   ]
  },
  {
   "attachments": {},
   "cell_type": "markdown",
   "metadata": {},
   "source": [
    "<h3> Solution </h3> \n",
    "\n",
    "Now let us describe our proposed solution for this problem.\n",
    "\n",
    "- Apply a X gate to the second qubit and then Hadamard to both qubits. This will transform our state to $\\ket{\\psi} = \\frac{1}{\\sqrt{2}}(\\ket{0} + \\ket{1} ) \\otimes \\ket{-} $\n",
    "\n",
    "- After we apply $U_f$, our state will become : $$ \\frac{1}{\\sqrt{2}}\\bigg[ (-1)^{f(0)} \\ket{0} + (-1)^{f(1)}\\ket{1} \\bigg] \\otimes \\ket{-} $$    Now, $f(x)$ is either constant or balanced. If it is constant, then the coefficients of $\\ket{0}$ and $\\ket{1}$ will have the same sign, either $+1$ or $-1$. So, the state will be $ (-1)^{f(0)} \\frac{1}{\\sqrt{2}}(\\ket{0} + \\ket{1} ) \\otimes \\ket{-} = (-1)^{f(x)} \\ket{+} \\ket{-} $. So if we apply another Hadamard after $U_f$, the state $\\ket{+}$ will transform to $\\ket{0}$. \n",
    "- However, if $f(x)$ is balanced, then the signs of $\\ket{0}$ and $\\ket{1}$ will be opposite. That is, the state after applying $U_f$ will be: $$ (-1)^{f(0)}\\frac{1}{\\sqrt{2}}(\\ket{0} - \\ket{1} ) \\otimes \\ket{-} = (-1)^{f(0)} \\ket{-} \\ket{-} $$   If we apply a Hadamard transformation to first qubit $\\ket{-}$ will transform to $\\ket{1}$.\n",
    "\n",
    "- So, we can easily conclude whether $f(x)$ is balanced or not by measuring the first qubit. It will be $0$, if $f(x)$ is constant and it will be $1$ if $f(x)$ is balanced. \n"
   ]
  },
  {
   "cell_type": "markdown",
   "metadata": {},
   "source": [
    "<h3> Task 5 </h3>\n",
    "\n",
    "You are given an oracle function called `oracle(x)`, which takes as input a quantum circuit, applies $U_f$ on it and returns the circuit. ( burda donmesine gerek var mi yok mu bilmiyorum. Ona sen karar ver nasil daha rahat olursa sana. ) \n",
    "\n",
    "Implement the proposed algorithm to decide whether or not your oracle function is constant or even. You should be able the see the circuit structure of $U_f$, if you draw your circuit. Can you check whether your result is correct or not by looking at this circuit ?\n",
    "\n",
    "Algorithm is as follows: \n",
    "\n",
    "- Apply a X gate to the second qubit.\n",
    "- Apply Hadamard to both qubits.\n",
    "- Apply $U_f$, that is call oracle( $\\textit{with your circuit}$ ) \n",
    "- Apply Hadamard to both qubits. (Why both qubits?)\n",
    "- Measure and comment on the result.\n",
    "\n",
    "(Burda da bir sekilde cevabi tutmaya gerek yok bence. circuit diagramlardan anlasilir hangisinin hangisi oldugu. )\n",
    "\n"
   ]
  },
  {
   "cell_type": "markdown",
   "metadata": {},
   "source": [
    "Eğer birazcık daha detaylı bakmak istersen Deutch, Deutch-Jozsa ve Simon algoritmalarına Ahmet hocanın notlarına bakabilirsin : http://ahmetcevik.com/wp-content/uploads/2020/02/Quantum-computing-lecture-notes.pdf \n",
    "\n",
    "Birazcık daha matematiksel açıklamayı buraya yazalım dersen hayır demem valla. Özellikle öbürleri için.\n"
   ]
  },
  {
   "cell_type": "code",
   "execution_count": null,
   "metadata": {},
   "outputs": [],
   "source": []
  },
  {
   "cell_type": "markdown",
   "metadata": {},
   "source": [
    "<h3> Task 6 </h3> \n",
    "\n",
    "There are four possible functions $f(x)$. Could you identify what these are ? If so, write down the oracle(x) function which implements each."
   ]
  },
  {
   "cell_type": "code",
   "execution_count": null,
   "metadata": {},
   "outputs": [],
   "source": [
    "import qiskit, falan filan\n",
    "\n",
    "def oracle1(x):\n",
    "    biri identity, hic bisi uygulamican\n",
    "    \n",
    "def oracle2(x):\n",
    "    \n",
    "def oracle3(x):\n",
    "    \n",
    "    \n",
    "def oracle4(x):\n",
    "Su linkte anlatiyo nasil yapilacagini bence direkt yapistirabiliriz cevabi burdan: \n",
    "    https://qiskit.org/textbook/ch-algorithms/deutsch-josza.html \n",
    "# Apply barrier \n",
    "if barriers:\n",
    "    djCircuit.barrier()\n",
    "\n",
    "# Query the oracle\n",
    "if oracle == \"c\": # if the oracle is constant, return c\n",
    "    if c == 1:\n",
    "        djCircuit.x(n)\n",
    "    else:\n",
    "        djCircuit.iden(n)\n",
    "else: # otherwise, the oracle is balanced and it returns the inner product of the input with b (non-zero bitstring) \n",
    "    for i in range(n):\n",
    "        if (b & (1 << i)):\n",
    "            djCircuit.cx(i, n)\n",
    "\n",
    "# Apply barrier \n",
    "if barriers:\n",
    "    djCircuit.barrier()\n",
    "\n",
    "# Apply Hadamard gates to the first register after querying the oracle\n",
    "djCircuit.h(range(n))\n",
    "\n",
    "# Measure the first register\n",
    "djCircuit.measure(range(n), range(n))"
   ]
  }
 ],
 "metadata": {
  "kernelspec": {
   "display_name": "Python 3",
   "language": "python",
   "name": "python3"
  },
  "language_info": {
   "codemirror_mode": {
    "name": "ipython",
    "version": 3
   },
   "file_extension": ".py",
   "mimetype": "text/x-python",
   "name": "python",
   "nbconvert_exporter": "python",
   "pygments_lexer": "ipython3",
   "version": "3.7.1"
  }
 },
 "nbformat": 4,
 "nbformat_minor": 4
}
